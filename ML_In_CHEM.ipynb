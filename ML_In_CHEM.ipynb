{
  "cells": [
    {
      "cell_type": "markdown",
      "metadata": {
        "id": "view-in-github",
        "colab_type": "text"
      },
      "source": [
        "<a href=\"https://colab.research.google.com/github/SamudaEdiriweera/ML_Project_In_Chemistry/blob/main/ML_In_CHEM.ipynb\" target=\"_parent\"><img src=\"https://colab.research.google.com/assets/colab-badge.svg\" alt=\"Open In Colab\"/></a>"
      ]
    },
    {
      "cell_type": "code",
      "execution_count": null,
      "metadata": {
        "id": "hbdZ-J2gT4pI"
      },
      "outputs": [],
      "source": [
        "import pandas as pd\n",
        "import numpy as np\n",
        "import seaborn as sns\n",
        "import matplotlib.pyplot as plt\n",
        "from sklearn.preprocessing import LabelEncoder\n",
        "from sklearn.preprocessing import StandardScaler\n",
        "from sklearn.preprocessing import OneHotEncoder\n",
        "from sklearn.svm import SVC\n",
        "from sklearn.ensemble import RandomForestClassifier\n",
        "from sklearn.metrics import accuracy_score\n",
        "from sklearn.model_selection import GridSearchCV, KFold\n",
        "from sklearn.model_selection import train_test_split\n",
        "from google.colab import data_table\n",
        "import pickle\n",
        "from sklearn.multioutput import MultiOutputClassifier\n",
        "from sklearn.model_selection import cross_val_score\n",
        "from sklearn.metrics import mean_squared_error, confusion_matrix"
      ]
    },
    {
      "cell_type": "code",
      "execution_count": null,
      "metadata": {
        "id": "yURHDcNlT8n0"
      },
      "outputs": [],
      "source": [
        "class Stage_1_2:\n",
        "\n",
        "    def __init__(self):\n",
        "        self.ohe = None\n",
        "        self.One_Hot_value = None\n",
        "        self.df_encode_toxicity_column = None\n",
        "        self.x_train = None\n",
        "        self.x_test = None\n",
        "        self.y_train = None\n",
        "        self.y_test = None\n",
        "        self.acc_y1_predict = None\n",
        "        self.acc_y2_predict = None\n",
        "        self.acc_y3_predict = None\n",
        "        self.acc_y4_predict = None\n",
        "        self.acc_y5_predict = None\n",
        "        self.acc_y6_predict = None\n",
        "\n",
        "    def value_count(self,valu):\n",
        "        df1[valu].value_counts()\n",
        "\n",
        "    def add_Othernull(self,inpt):\n",
        "        if inpt == 'Null' :\n",
        "            return 'OtherNull'\n",
        "        else :\n",
        "            return inpt\n",
        "\n",
        "    def add_Reagent(self,inpt):\n",
        "        count1 = df1[\"Reagent\"].value_counts().get(inpt,0)\n",
        "        if count1 == 1:\n",
        "            return 'Other'\n",
        "        else :\n",
        "            return inpt\n",
        "\n",
        "    def add_Reactant(self,inpt):\n",
        "        count2 = df1['Reactant_1'].value_counts().get(inpt,0)\n",
        "        if count2 == 1:\n",
        "            return 'Other'\n",
        "        else :\n",
        "            return inpt\n",
        "\n",
        "    def Missing_value(self,df,inpt):\n",
        "        return df[inpt].fillna(df[inpt].mean(),inplace=True)\n",
        "\n",
        "\n",
        "    def L_Encoder(self,inpt,df):\n",
        "        le = LabelEncoder()\n",
        "        encode_value = le.fit_transform(df[inpt])\n",
        "        return encode_value\n",
        "\n",
        "    def One_Hot_Encoder(self,inpt,df):         # Toxicity column is OneHotEncoded\n",
        "        self.ohe = OneHotEncoder(sparse=False)\n",
        "        self.One_Hot_value = self.ohe.fit_transform(df[inpt].values.reshape(-1,1))\n",
        "        return self.One_Hot_value\n",
        "\n",
        "    def New_column(self,inpt,df):               # add the OneHotEncoded column to df1 dataframe\n",
        "        self.df_encode_toxicity_column = pd.DataFrame(self.One_Hot_value, columns=self.ohe.get_feature_names_out([inpt]))\n",
        "        df = pd.concat([df, self.df_encode_toxicity_column], axis=1)\n",
        "        return df\n",
        "\n",
        "# End the Encoding of df1 dataframe\n",
        "\n",
        "class Stage_3(Stage_1_2):\n",
        "\n",
        "    def Get_dummies(self,x):\n",
        "        x = pd.get_dummies(x)\n",
        "        return x\n",
        "\n",
        "    def Split_DS(self,x,y):\n",
        "\n",
        "        self.x_train, self.x_test, self.y_train, self.y_test = train_test_split(x,y, test_size=0.2, random_state=0)\n",
        "        return self.x_train, self.x_test, self.y_train, self.y_test\n",
        "\n",
        "    def Model_1(self,model):\n",
        "        model.fit(self.x_train, self.y_train)\n",
        "        self.y1_predict = model.predict(self.x_test)\n",
        "        self.acc_y1_predict = accuracy_score(self.y1_predict[:,0 ], self.y_test['Reactant_1_polarity'])\n",
        "        self.acc_y2_predict = accuracy_score(self.y1_predict[:,1 ], self.y_test['Toxicity'])\n",
        "        self.acc_y3_predict = accuracy_score(self.y1_predict[:,2 ], self.y_test['Polarity'])\n",
        "        self.acc_y4_predict = accuracy_score(self.y1_predict[:,3 ], self.y_test['Boiling pooint (Bp)'])\n",
        "        self.acc_y5_predict = accuracy_score(self.y1_predict[:,4 ], self.y_test['Freezing point'])\n",
        "        self.acc_y6_predict = accuracy_score(self.y1_predict[:,5 ], self.y_test['Dielectric Constant'])\n",
        "        self.mse_1 = mean_squared_error(self.y1_predict[:,0 ], self.y_test['Reactant_1_polarity'])\n",
        "        self.mse_2 = mean_squared_error(self.y1_predict[:,1 ], self.y_test['Toxicity'])\n",
        "        self.mse_3 = mean_squared_error(self.y1_predict[:,2 ], self.y_test['Polarity'])\n",
        "        self.mse_4 = mean_squared_error(self.y1_predict[:,3 ], self.y_test['Boiling pooint (Bp)'])\n",
        "        self.mse_5 = mean_squared_error(self.y1_predict[:,4 ], self.y_test['Freezing point'])\n",
        "        self.mse_6 = mean_squared_error(self.y1_predict[:,5 ], self.y_test['Dielectric Constant'])\n",
        "\n",
        "        return self.y1_predict,  self.acc_y1_predict, self.acc_y2_predict, self.acc_y3_predict, self.acc_y4_predict, self.acc_y5_predict,\n",
        "        self.acc_y6_predict, self.mse_1, self.mse_2, self.mse_3, self.mse_4, self.mse_5, self.mse_6\n",
        "\n",
        "    def Model_2(self,model):\n",
        "        model.fit(self.x_train, self.y_train)\n",
        "        self.yy1_predict = model.predict(self.x_test)\n",
        "        self.acc_yy1_predict = accuracy_score(self.yy1_predict, self.y_test)\n",
        "        self.conf_matrix = confusion_matrix(self.yy1_predict, self.y_test)\n",
        "        return self.yy1_predict, self.acc_yy1_predict, self.conf_matrix\n",
        "\n",
        "    def Param_for_MOC(self,sv):\n",
        "        param_grid = {\n",
        "                        'estimator__C': [0.1, 1, 10],\n",
        "                        'estimator__kernel': ['rbf', 'linear'],\n",
        "                        'estimator__gamma': [0.1, 1,'auto'],\n",
        "\n",
        "                    }\n",
        "        kf = KFold(n_splits=5, shuffle= True, random_state=0)\n",
        "        grid_search = GridSearchCV(estimator=sv, param_grid=param_grid, scoring='neg_mean_squared_error',cv=kf, n_jobs=-1  )\n",
        "        grid_fit = grid_search.fit(self.x_train, self.y_train)\n",
        "        self.best_params_ofMOC = grid_search.best_params_\n",
        "        self.best_model_for_MOC = grid_fit.best_estimator_\n",
        "        self.Overall_Model_1_Accuracy = self.best_model_for_MOC.score(self.x_test, self.y_test)\n",
        "\n",
        "        return self.best_params_ofMOC, self.best_model_for_MOC, self.Overall_Model_1_Accuracy\n",
        "\n",
        "\n",
        "    def Param_for_SVC(self,sv):\n",
        "        param_grid = {\n",
        "                       'C':[0.1,1,10,100],\n",
        "                       'kernel':['rbf','linear','poly','sigmoid'],\n",
        "                     }\n",
        "        kf = KFold(n_splits=5, shuffle= True, random_state=0)\n",
        "        grid_search = GridSearchCV(estimator=sv, param_grid=param_grid, cv=kf)\n",
        "        grid_fit = grid_search.fit(self.x_train, self.y_train)\n",
        "        self.best_params_ofSVC = grid_search.best_params_\n",
        "        self.best_model_for_SVC = grid_fit.best_estimator_\n",
        "        self.Overall_Model_2_Accuracy = self.best_model_for_SVC.score(self.x_test, self.y_test)\n",
        "\n",
        "        return self.best_params_ofSVC, self.best_model_for_SVC, self.Overall_Model_2_Accuracy\n",
        "\n",
        "class Stage_4(Stage_3):\n",
        "\n",
        "    def Model_01_Save(self):\n",
        "\n",
        "       model_pkl_file = 'Solvent_predict_model_01.pkl'\n",
        "       with open(model_pkl_file,'wb') as file:\n",
        "        pickle.dump(self.best_model_for_MOC, file)\n",
        "\n",
        "    def Model_02_Save(self):\n",
        "\n",
        "       model_pkl_file = 'Solvent_predict_model_02.pkl'\n",
        "       with open(model_pkl_file,'wb') as file:\n",
        "        pickle.dump(self.best_model_for_SVC, file)\n"
      ]
    },
    {
      "cell_type": "code",
      "execution_count": null,
      "metadata": {
        "id": "UI6vd2N6UGRm"
      },
      "outputs": [],
      "source": [
        "df1 = pd.read_csv(\"/content/drive/MyDrive/ML in CHEM/sample2.csv\", encoding='latin-1')\n",
        "df1 = df1.drop(columns=['Reactant_2','Reactant_2_polarity'])\n",
        "df1['Dielectric Constant'] = df1['Dielectric Constant'].astype(\"int32\")\n",
        "df1['Boiling pooint (Bp)'] = df1['Boiling pooint (Bp)'].astype(\"int32\")\n",
        "df1['Freezing point'] = df1['Freezing point'].astype(\"int32\")\n",
        "\n",
        "stage04 = Stage_4()\n",
        "stage04.Missing_value(df1, 'Reaction Temperature ')\n",
        "df1['Catalyst'] = df1['Catalyst'].apply(stage04.add_Othernull)\n",
        "df1['Reagent'] = df1['Reagent'].apply(stage04.add_Othernull)\n",
        "\n",
        "stage04.value_count('Catalyst')\n",
        "stage04.value_count('Reaction')\n",
        "stage04.value_count('Reagent')\n",
        "stage04.value_count('Reactant_1')\n",
        "\n",
        "df1['Reagent'] = df1['Reagent'].apply(stage04.add_Reagent)\n",
        "df1['Reactant_1'] = df1['Reactant_1'].apply(stage04.add_Reactant)\n",
        "\n",
        "stage04.value_count('Reagent')\n",
        "stage04.value_count('Reactant_1')\n",
        "\n",
        "df1['Reactant_1_polarity'] = stage04.L_Encoder(\"Reactant_1_polarity\", df1)\n",
        "df1['Polarity'] = stage04.L_Encoder(\"Polarity\", df1)\n",
        "df1['Toxicity'] = stage04.L_Encoder('Toxicity', df1)\n",
        "df1['Reaction Temperature '] = df1['Reaction Temperature '].astype(\"int32\")"
      ]
    },
    {
      "cell_type": "code",
      "execution_count": null,
      "metadata": {
        "id": "d7co7xhzWMn_"
      },
      "outputs": [],
      "source": [
        "x = df1[['Reaction','Reaction Temperature ', 'Catalyst','Reagent','Reactant_1']]\n",
        "y = df1[['Reactant_1_polarity','Toxicity','Polarity','Boiling pooint (Bp)', 'Freezing point','Dielectric Constant']]"
      ]
    },
    {
      "cell_type": "code",
      "execution_count": null,
      "metadata": {
        "id": "R_aFOHE8YWCt"
      },
      "outputs": [],
      "source": [
        "x = stage04.Get_dummies(x)"
      ]
    },
    {
      "cell_type": "code",
      "execution_count": null,
      "metadata": {
        "id": "97j37Ci8YdAh"
      },
      "outputs": [],
      "source": [
        "stage04.Split_DS(x,y)"
      ]
    },
    {
      "cell_type": "code",
      "execution_count": null,
      "metadata": {
        "id": "BQdgkUGJdWy3"
      },
      "outputs": [],
      "source": [
        "sv = SVC(kernel='linear', C=10, random_state=0)"
      ]
    },
    {
      "cell_type": "code",
      "execution_count": null,
      "metadata": {
        "id": "bfvCB5LCYrqk"
      },
      "outputs": [],
      "source": [
        "multioutput_classifier = MultiOutputClassifier(sv)"
      ]
    },
    {
      "cell_type": "code",
      "execution_count": null,
      "metadata": {
        "id": "4T_G6U3ZCYWp"
      },
      "outputs": [],
      "source": [
        "stage04.Model_1(multioutput_classifier)"
      ]
    },
    {
      "cell_type": "code",
      "source": [
        "print(f\"Accuarcy of Reactant_1_polarity  ---> {stage04.acc_y1_predict}\")\n",
        "print(f\"Accuarcy of Toxicity             ---> {stage04.acc_y2_predict}\")\n",
        "print(f\"Accuarcy of Polarity             ---> {stage04.acc_y3_predict}\")\n",
        "print(f\"Accuarcy of Boiling pooint (Bp)  ---> {stage04.acc_y4_predict}\")\n",
        "print(f\"Accuarcy of Freezing point       ---> {stage04.acc_y5_predict}\")\n",
        "print(f\"Accuarcy of Dielectric Constant  ---> {stage04.acc_y6_predict}\")"
      ],
      "metadata": {
        "id": "VfUzwxQonYjf"
      },
      "execution_count": null,
      "outputs": []
    },
    {
      "cell_type": "code",
      "source": [
        "print(f\"MSE of Reactant_1_polarity  ---> {stage04.mse_1}\")\n",
        "print(f\"MSE of Toxicity             ---> {stage04.mse_2}\")\n",
        "print(f\"MSE of Polarity             ---> {stage04.mse_3}\")\n",
        "print(f\"MSE of Boiling pooint (Bp)  ---> {stage04.mse_4}\")\n",
        "print(f\"MSE of Freezing point       ---> {stage04.mse_5}\")\n",
        "print(f\"MSE of Dielectric Constant  ---> {stage04.mse_6}\")"
      ],
      "metadata": {
        "id": "yX4SVIfdtwdI"
      },
      "execution_count": null,
      "outputs": []
    },
    {
      "cell_type": "code",
      "execution_count": null,
      "metadata": {
        "id": "os0d_bUrFZp0"
      },
      "outputs": [],
      "source": [
        "stage04.Param_for_MOC(multioutput_classifier)"
      ]
    },
    {
      "cell_type": "code",
      "source": [
        "print(f\"Overall Model 1 Accuracy  -->  {stage04.Overall_Model_1_Accuracy}\")"
      ],
      "metadata": {
        "id": "JxMhnW53D0-J"
      },
      "execution_count": null,
      "outputs": []
    },
    {
      "cell_type": "code",
      "source": [
        "stage04.best_model_for_MOC.predict(stage04.x_test)"
      ],
      "metadata": {
        "id": "wZw0zL9y-H4q"
      },
      "execution_count": null,
      "outputs": []
    },
    {
      "cell_type": "code",
      "execution_count": null,
      "metadata": {
        "id": "SedF0XuNTE6s"
      },
      "outputs": [],
      "source": [
        "stage04.y_test"
      ]
    },
    {
      "cell_type": "code",
      "source": [
        "stage04.Model_01_Save()"
      ],
      "metadata": {
        "id": "awRnm8sE1Beu"
      },
      "execution_count": null,
      "outputs": []
    },
    {
      "cell_type": "code",
      "source": [
        "xx = df1[['Reactant_1_polarity','Toxicity','Polarity','Boiling pooint (Bp)', 'Freezing point','Dielectric Constant']]\n",
        "yy = df1[[\"Solvent\"]]"
      ],
      "metadata": {
        "id": "rCssDDzudzKD"
      },
      "execution_count": null,
      "outputs": []
    },
    {
      "cell_type": "code",
      "source": [
        "xx = stage04.Get_dummies(xx)"
      ],
      "metadata": {
        "id": "nAA23TIJVG2M"
      },
      "execution_count": null,
      "outputs": []
    },
    {
      "cell_type": "code",
      "source": [
        "stage04.Split_DS(xx,yy)"
      ],
      "metadata": {
        "id": "Hd4bYh-XVJdz"
      },
      "execution_count": null,
      "outputs": []
    },
    {
      "cell_type": "code",
      "source": [
        "sv = SVC(kernel='linear', C=10, random_state=0)"
      ],
      "metadata": {
        "id": "Cgshi9h9VcCu"
      },
      "execution_count": null,
      "outputs": []
    },
    {
      "cell_type": "code",
      "source": [
        "stage04.Model_2(sv)"
      ],
      "metadata": {
        "id": "RG0dg6c_WHdw"
      },
      "execution_count": null,
      "outputs": []
    },
    {
      "cell_type": "code",
      "source": [
        "print(f\"Accuarcy of Solvent  ---> {stage04.acc_yy1_predict}\")\n",
        "stage04.Param_for_SVC(sv)\n",
        "print(f\"Overall Model 2 Accuracy  -->  {stage04.Overall_Model_2_Accuracy}\")\n",
        "stage04.best_model_for_SVC.predict(stage04.x_test)\n",
        "stage04.y_test\n",
        "stage04.Model_02_Save()"
      ],
      "metadata": {
        "id": "5feR7GAHSsMh"
      },
      "execution_count": null,
      "outputs": []
    },
    {
      "cell_type": "code",
      "source": [
        "sns.heatmap(stage04.conf_matrix, annot=True, fmt='d')\n",
        "plt.xlabel('Predicted Label')\n",
        "plt.ylabel('True Label')\n",
        "plt.show()"
      ],
      "metadata": {
        "id": "4KnRpoGvR0DK"
      },
      "execution_count": null,
      "outputs": []
    },
    {
      "cell_type": "code",
      "source": [
        "df_array = stage04.y_test.values"
      ],
      "metadata": {
        "id": "mjoBFuQ_cdBg"
      },
      "execution_count": null,
      "outputs": []
    },
    {
      "cell_type": "code",
      "source": [
        "print(df_array)"
      ],
      "metadata": {
        "id": "0DgpThpXcn3B"
      },
      "execution_count": null,
      "outputs": []
    },
    {
      "cell_type": "code",
      "source": [
        "import matplotlib.pyplot as plt\n",
        "y_test_list = df_array.tolist()\n",
        "yy1_predict_list = stage04.yy1_predict.tolist()\n",
        "\n",
        "le = LabelEncoder()\n",
        "a = le.fit_transform(yy1_predict_list)\n",
        "b = le.fit_transform(y_test_list)\n",
        "\n",
        "# Assuming predicted_labels and y_test are your predicted and actual labels\n",
        "plt.figure(figsize=(10, 6))\n",
        "\n",
        "# Plotting the test values vs. predicted values\n",
        "plt.scatter(range(len(b)), b, color='black', label='Actual Values', marker='o')\n",
        "plt.scatter(range(len(a)), a, color='red', label='Predicted Values', marker='x')\n",
        "\n",
        "# Plotting the line representing the perfect match between actual and predicted values\n",
        "plt.plot(range(len(b)), b, color='blue', linewidth=1, linestyle='--', label='Perfect Match Line')\n",
        "\n",
        "plt.xlabel('Data Point')\n",
        "plt.ylabel('Class Label')\n",
        "plt.legend()\n",
        "plt.title('Actual vs. Predicted Values')\n",
        "plt.show()"
      ],
      "metadata": {
        "id": "dPNv3915UEGR"
      },
      "execution_count": null,
      "outputs": []
    }
  ],
  "metadata": {
    "colab": {
      "provenance": [],
      "mount_file_id": "1qHbbfDr09QKHe15-6rwIQomVoZ_RnYdT",
      "authorship_tag": "ABX9TyP6CsYPrzmwfHIlPsfv5X+8",
      "include_colab_link": true
    },
    "kernelspec": {
      "display_name": "Python 3",
      "name": "python3"
    },
    "language_info": {
      "name": "python"
    }
  },
  "nbformat": 4,
  "nbformat_minor": 0
}